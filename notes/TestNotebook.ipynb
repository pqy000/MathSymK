{
 "cells": [
  {
   "cell_type": "code",
   "metadata": {
    "collapsed": true,
    "ExecuteTime": {
     "end_time": "2024-11-16T13:28:34.553676400Z",
     "start_time": "2024-11-16T13:28:34.268978Z"
    }
   },
   "source": "println(\"Hello World\")",
   "outputs": [
    {
     "name": "stdout",
     "output_type": "stream",
     "text": [
      "Hello World\r\n"
     ]
    }
   ],
   "execution_count": 1
  },
  {
   "metadata": {
    "ExecuteTime": {
     "end_time": "2024-11-16T13:28:34.791534300Z",
     "start_time": "2024-11-16T13:28:34.685909800Z"
    }
   },
   "cell_type": "code",
   "source": "import io.github.ezrnest.mathsymk.linear.Tensor",
   "outputs": [],
   "execution_count": 2
  },
  {
   "metadata": {
    "ExecuteTime": {
     "end_time": "2024-11-16T13:28:35.079146200Z",
     "start_time": "2024-11-16T13:28:34.802536500Z"
    }
   },
   "cell_type": "code",
   "source": [
    "import io.github.ezrnest.mathsymk.model.Fraction\n",
    "\n",
    "\n",
    "val a = Fraction(1, 2)\n",
    "\n",
    "(a + 1) * 2"
   ],
   "outputs": [
    {
     "data": {
      "text/plain": [
       "3"
      ]
     },
     "execution_count": 3,
     "metadata": {},
     "output_type": "execute_result"
    }
   ],
   "execution_count": 3
  },
  {
   "metadata": {
    "ExecuteTime": {
     "end_time": "2024-11-16T13:28:35.169406Z",
     "start_time": "2024-11-16T13:28:35.088128Z"
    }
   },
   "cell_type": "code",
   "source": "notebook",
   "outputs": [
    {
     "data": {
      "text/plain": [
       "org.jetbrains.kotlinx.jupyter.repl.notebook.impl.NotebookImpl@5e8e9cc1"
      ]
     },
     "execution_count": 4,
     "metadata": {},
     "output_type": "execute_result"
    }
   ],
   "execution_count": 4
  },
  {
   "metadata": {
    "ExecuteTime": {
     "end_time": "2024-11-16T13:28:35.270475800Z",
     "start_time": "2024-11-16T13:28:35.189881400Z"
    }
   },
   "cell_type": "code",
   "source": [
    "import io.github.ezrnest.mathsymk.model.Models\n",
    "val ℚ = Models.fractions()"
   ],
   "outputs": [],
   "execution_count": 5
  },
  {
   "metadata": {
    "ExecuteTime": {
     "end_time": "2024-11-16T13:28:35.350614900Z",
     "start_time": "2024-11-16T13:28:35.278480500Z"
    }
   },
   "cell_type": "code",
   "source": "val ℤ = Models.ints()",
   "outputs": [],
   "execution_count": 6
  },
  {
   "metadata": {
    "ExecuteTime": {
     "end_time": "2024-11-16T13:28:35.426732800Z",
     "start_time": "2024-11-16T13:28:35.358616600Z"
    }
   },
   "cell_type": "code",
   "source": "val `ℤ₂` = Models.intModN(2)",
   "outputs": [],
   "execution_count": 7
  },
  {
   "metadata": {
    "ExecuteTime": {
     "end_time": "2024-11-16T13:28:35.439735Z",
     "start_time": "2024-11-16T13:28:35.434733Z"
    }
   },
   "cell_type": "code",
   "source": "",
   "outputs": [],
   "execution_count": null
  }
 ],
 "metadata": {
  "kernelspec": {
   "display_name": "Kotlin",
   "language": "kotlin",
   "name": "kotlin"
  },
  "language_info": {
   "name": "kotlin",
   "version": "1.9.23",
   "mimetype": "text/x-kotlin",
   "file_extension": ".kt",
   "pygments_lexer": "kotlin",
   "codemirror_mode": "text/x-kotlin",
   "nbconvert_exporter": ""
  },
  "ktnbPluginMetadata": {
   "projectDependencies": [
    "MathSymK.main"
   ]
  }
 },
 "nbformat": 4,
 "nbformat_minor": 0
}
